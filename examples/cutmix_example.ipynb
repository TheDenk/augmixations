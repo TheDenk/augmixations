{
  "nbformat": 4,
  "nbformat_minor": 0,
  "metadata": {
    "colab": {
      "name": "cutmix-example.ipynb",
      "provenance": [],
      "authorship_tag": "ABX9TyMWXPcrWnnGlQ1Ac4rpu5CC",
      "include_colab_link": true
    },
    "kernelspec": {
      "name": "python3",
      "display_name": "Python 3"
    }
  },
  "cells": [
    {
      "cell_type": "markdown",
      "metadata": {
        "id": "view-in-github",
        "colab_type": "text"
      },
      "source": [
        "<a href=\"https://colab.research.google.com/github/TheDenk/augmixations/blob/master/examples/cutmix_example.ipynb\" target=\"_parent\"><img src=\"https://colab.research.google.com/assets/colab-badge.svg\" alt=\"Open In Colab\"/></a>"
      ]
    },
    {
      "cell_type": "code",
      "metadata": {
        "id": "CcdL4fUyfJJb",
        "colab": {
          "base_uri": "https://localhost:8080/"
        },
        "outputId": "923bfe28-6832-4e08-d883-dc9dc85000ed"
      },
      "source": [
        "!pip install augmixations"
      ],
      "execution_count": 1,
      "outputs": [
        {
          "output_type": "stream",
          "text": [
            "Collecting augmixations\n",
            "  Downloading https://files.pythonhosted.org/packages/1e/2f/e2939cfef7949fef0d03da603bb384e19508aed7704413f4af530b86ea71/augmixations-0.0.4-py3-none-any.whl\n",
            "Requirement already satisfied: numpy>=1.11.1 in /usr/local/lib/python3.6/dist-packages (from augmixations) (1.18.5)\n",
            "Installing collected packages: augmixations\n",
            "Successfully installed augmixations-0.0.4\n"
          ],
          "name": "stdout"
        }
      ]
    },
    {
      "cell_type": "code",
      "metadata": {
        "id": "DhEY9Kr0fOp8"
      },
      "source": [
        "import cv2\n",
        "import numpy as np\n",
        "from matplotlib import pyplot as plt\n",
        "from augmixations import Cutmix"
      ],
      "execution_count": 2,
      "outputs": []
    },
    {
      "cell_type": "markdown",
      "metadata": {
        "id": "BHGorvvGf_Pt"
      },
      "source": [
        "##Help functions"
      ]
    },
    {
      "cell_type": "code",
      "metadata": {
        "id": "ouQsobBIfV6L"
      },
      "source": [
        "def show_img(image, figsize=(4, 6), title=None):\n",
        "    img = image.copy()\n",
        "    img = cv2.cvtColor(img, cv2.COLOR_BGR2RGB)\n",
        "    plt.figure(figsize=figsize)\n",
        "    plt.title(title)\n",
        "    plt.imshow(img)\n",
        "    plt.axis(False)\n",
        "    plt.show()\n",
        "\n",
        "def create_img_with_rect(img_h=500, img_w=500, x1=200, y1=200, x2=300, y2=300, color=(80, 80, 80)):\n",
        "    label = 'rectangle'\n",
        "    img = np.ones((img_h, img_w, 3), dtype=np.uint8)*230\n",
        "    img = cv2.rectangle(img, (x1, y1), (x2, y2), color, -1)\n",
        "    return img, np.array([np.array([x1, y1, x2, y2])]), np.array([label])\n",
        "\n",
        "def create_img_with_circle(img_h=500, img_w=500, xc=250, yc=250,r=100, color=(150, 150, 150)):\n",
        "    label = 'circle'\n",
        "    img = np.ones((img_h, img_w, 3), dtype=np.uint8)*255\n",
        "    img = cv2.circle(img, (xc, yc), r, color, -1)\n",
        "    return img, np.array([np.array([xc -  r, xc - r, xc + r, xc + r])]), np.array([label])\n",
        "\n",
        "def draw_boxes(new_img, boxes, labels):\n",
        "    frame = new_img.copy()\n",
        "    \n",
        "    for (x1, y1, x2, y2), label in zip(boxes, labels): \n",
        "        thickness = 2\n",
        "        font_scale = 1\n",
        "    \n",
        "        frame = cv2.rectangle(frame, (x1, y1), (x2, y2), (255, 0, 0), 3)\n",
        "        frame = cv2.putText(frame, label, (int(x1), int(y1 - 15)), cv2.FONT_HERSHEY_SIMPLEX ,  \n",
        "                                   font_scale, (0, 0, 255), thickness, cv2.LINE_AA) \n",
        "        \n",
        "    return frame"
      ],
      "execution_count": 3,
      "outputs": []
    },
    {
      "cell_type": "markdown",
      "metadata": {
        "id": "WEkaoKvwgM7K"
      },
      "source": [
        "##Create images"
      ]
    },
    {
      "cell_type": "code",
      "metadata": {
        "id": "MK6gD4_ZfWAJ"
      },
      "source": [
        "bg_img, bg_boxes, bg_labels = create_img_with_rect()\n",
        "fg_img, fg_boxes, fg_labels = create_img_with_circle()"
      ],
      "execution_count": 4,
      "outputs": []
    },
    {
      "cell_type": "code",
      "metadata": {
        "id": "nD_Ldq3nfWDE",
        "colab": {
          "base_uri": "https://localhost:8080/",
          "height": 254
        },
        "outputId": "2228946d-e148-4d81-c0ee-96e17f1251bb"
      },
      "source": [
        "bg_marked = draw_boxes(bg_img, bg_boxes, bg_labels)\n",
        "show_img(bg_marked)"
      ],
      "execution_count": 5,
      "outputs": [
        {
          "output_type": "display_data",
          "data": {
            "image/png": "[encoded data removed]",
            "text/plain": [
              "<Figure size 288x432 with 1 Axes>"
            ]
          },
          "metadata": {
            "tags": [],
            "needs_background": "light"
          }
        }
      ]
    },
    {
      "cell_type": "code",
      "metadata": {
        "id": "Tb_8dDw3fWFc",
        "colab": {
          "base_uri": "https://localhost:8080/",
          "height": 254
        },
        "outputId": "7c723138-5550-4b02-af9b-79897b5c8fcf"
      },
      "source": [
        "fg_marked = draw_boxes(fg_img, fg_boxes, fg_labels)\n",
        "show_img(fg_marked)"
      ],
      "execution_count": 6,
      "outputs": [
        {
          "output_type": "display_data",
          "data": {
            "image/png": "[encoded data removed]",
            "text/plain": [
              "<Figure size 288x432 with 1 Axes>"
            ]
          },
          "metadata": {
            "tags": [],
            "needs_background": "light"
          }
        }
      ]
    },
    {
      "cell_type": "markdown",
      "metadata": {
        "id": "XovspJJ0gTst"
      },
      "source": [
        "##Simple usage"
      ]
    },
    {
      "cell_type": "code",
      "metadata": {
        "id": "LlfZQraRffDn",
        "colab": {
          "base_uri": "https://localhost:8080/",
          "height": 254
        },
        "outputId": "1a4aa52a-6b26-4638-bbc8-9c50a12b37f1"
      },
      "source": [
        "cutmix = Cutmix()\n",
        "new_img, new_boxes, new_labels = cutmix(\n",
        "                            bg_img, \n",
        "                            bg_boxes,\n",
        "                            bg_labels,\n",
        "                            \n",
        "                            fg_img, \n",
        "                            fg_boxes,\n",
        "                            fg_labels,\n",
        "                           )\n",
        "\n",
        "img_with_rect = draw_boxes(new_img, new_boxes, new_labels)\n",
        "show_img(img_with_rect)"
      ],
      "execution_count": 7,
      "outputs": [
        {
          "output_type": "display_data",
          "data": {
            "image/png": "[encoded data removed]",
            "text/plain": [
              "<Figure size 288x432 with 1 Axes>"
            ]
          },
          "metadata": {
            "tags": [],
            "needs_background": "light"
          }
        }
      ]
    },
    {
      "cell_type": "markdown",
      "metadata": {
        "id": "Sg8UL3jCgXWM"
      },
      "source": [
        "##Advanced usage (with configs)"
      ]
    },
    {
      "cell_type": "code",
      "metadata": {
        "id": "e7TgBDt9fpBf"
      },
      "source": [
        "crop_rect_config = {\n",
        "    'crop_min_x' : 100,\n",
        "    'crop_min_y' : 100,\n",
        "    'min_rect_h' : 200, \n",
        "    'min_rect_w' : 200,  \n",
        "    'insert_min_x' : None,\n",
        "    'insert_min_y' : None,\n",
        "}\n",
        "\n",
        "process_box_config = {\n",
        "    'max_overlap_area_ratio': 0.75,\n",
        "    'min_height_result_ratio': 0.25,\n",
        "    'min_width_result_ratio': 0.25,\n",
        "    'max_height_intersection': 0.9,\n",
        "    'max_width_intersection': 0.9,\n",
        "}"
      ],
      "execution_count": 8,
      "outputs": []
    },
    {
      "cell_type": "code",
      "metadata": {
        "id": "ft79hl-gfpD9",
        "colab": {
          "base_uri": "https://localhost:8080/",
          "height": 254
        },
        "outputId": "460948bc-5675-43da-f473-245eb9572c06"
      },
      "source": [
        "cutmix = Cutmix(crop_rect_config, process_box_config)\n",
        "new_img, new_boxes, new_labels = cutmix(\n",
        "                            bg_img, \n",
        "                            bg_boxes,\n",
        "                            bg_labels,\n",
        "                            \n",
        "                            fg_img, \n",
        "                            fg_boxes,\n",
        "                            fg_labels,\n",
        "                           )\n",
        "\n",
        "img_with_rect = draw_boxes(new_img, new_boxes, new_labels)\n",
        "show_img(img_with_rect)"
      ],
      "execution_count": 9,
      "outputs": [
        {
          "output_type": "display_data",
          "data": {
            "image/png": "[encoded data removed]",
            "text/plain": [
              "<Figure size 288x432 with 1 Axes>"
            ]
          },
          "metadata": {
            "tags": [],
            "needs_background": "light"
          }
        }
      ]
    }
  ]
}