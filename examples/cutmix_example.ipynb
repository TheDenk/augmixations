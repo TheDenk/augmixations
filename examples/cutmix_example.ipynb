{
  "nbformat": 4,
  "nbformat_minor": 0,
  "metadata": {
    "colab": {
      "name": "cutmix-example.ipynb",
      "provenance": [],
      "authorship_tag": "ABX9TyMMagbrj0N/yoBmlcV5/6ea",
      "include_colab_link": true
    },
    "kernelspec": {
      "name": "python3",
      "display_name": "Python 3"
    }
  },
  "cells": [
    {
      "cell_type": "markdown",
      "metadata": {
        "id": "view-in-github",
        "colab_type": "text"
      },
      "source": [
        "<a href=\"https://colab.research.google.com/github/TheDenk/augmixations/blob/master/examples/cutmix_example.ipynb\" target=\"_parent\"><img src=\"https://colab.research.google.com/assets/colab-badge.svg\" alt=\"Open In Colab\"/></a>"
      ]
    },
    {
      "cell_type": "code",
      "metadata": {
        "id": "CcdL4fUyfJJb",
        "outputId": "e1e9d204-5bdd-41d0-eaa5-dcefac139860",
        "colab": {
          "base_uri": "https://localhost:8080/",
          "height": 104
        }
      },
      "source": [
        "!pip install augmixations"
      ],
      "execution_count": 1,
      "outputs": [
        {
          "output_type": "stream",
          "text": [
            "Collecting augmixations\n",
            "  Downloading https://files.pythonhosted.org/packages/96/62/c042b38b9828b6eafc0c16573d39bf12a70e36a487fa5d7e8b83265db801/augmixations-0.0.2-py3-none-any.whl\n",
            "Requirement already satisfied: numpy>=1.8.0 in /usr/local/lib/python3.6/dist-packages (from augmixations) (1.18.5)\n",
            "Installing collected packages: augmixations\n",
            "Successfully installed augmixations-0.0.2\n"
          ],
          "name": "stdout"
        }
      ]
    },
    {
      "cell_type": "code",
      "metadata": {
        "id": "DhEY9Kr0fOp8"
      },
      "source": [
        "import cv2\n",
        "import numpy as np\n",
        "from matplotlib import pyplot as plt\n",
        "from augmixations import cutmix"
      ],
      "execution_count": 2,
      "outputs": []
    },
    {
      "cell_type": "markdown",
      "metadata": {
        "id": "BHGorvvGf_Pt"
      },
      "source": [
        "##Help functions"
      ]
    },
    {
      "cell_type": "code",
      "metadata": {
        "id": "ouQsobBIfV6L"
      },
      "source": [
        "def show_img(image, figsize=(4, 6), title=None):\n",
        "    img = image.copy()\n",
        "    img = cv2.cvtColor(img, cv2.COLOR_BGR2RGB)\n",
        "    plt.figure(figsize=figsize)\n",
        "    plt.title(title)\n",
        "    plt.imshow(img)\n",
        "    plt.axis(False)\n",
        "    plt.show()\n",
        "\n",
        "def create_img_with_rect(img_h=500, img_w=500, x1=200, y1=200, x2=300, y2=300, color=(80, 80, 80)):\n",
        "    label = 'rectangle'\n",
        "    img = np.ones((img_h, img_w, 3), dtype=np.uint8)*230\n",
        "    img = cv2.rectangle(img, (x1, y1), (x2, y2), color, -1)\n",
        "    return img, np.array([np.array([x1, y1, x2, y2])]), np.array([label])\n",
        "\n",
        "def create_img_with_circle(img_h=500, img_w=500, xc=250, yc=250,r=100, color=(150, 150, 150)):\n",
        "    label = 'circle'\n",
        "    img = np.ones((img_h, img_w, 3), dtype=np.uint8)*255\n",
        "    img = cv2.circle(img, (xc, yc), r, color, -1)\n",
        "    return img, np.array([np.array([xc -  r, xc - r, xc + r, xc + r])]), np.array([label])\n",
        "\n",
        "def draw_boxes(new_img, boxes, labels):\n",
        "    frame = new_img.copy()\n",
        "    \n",
        "    for (x1, y1, x2, y2), label in zip(boxes, labels): \n",
        "        thickness = 1\n",
        "        font_scale = 0.7\n",
        "    \n",
        "        frame = cv2.rectangle(frame, (x1, y1), (x2, y2), (255, 0, 0), 3)\n",
        "        frame = cv2.putText(frame, label, (int(x1), int(y1 - 15)), cv2.FONT_HERSHEY_SIMPLEX ,  \n",
        "                                   font_scale, (0, 255, 0), thickness, cv2.LINE_AA) \n",
        "        \n",
        "    return frame"
      ],
      "execution_count": 3,
      "outputs": []
    },
    {
      "cell_type": "markdown",
      "metadata": {
        "id": "WEkaoKvwgM7K"
      },
      "source": [
        "##Create images"
      ]
    },
    {
      "cell_type": "code",
      "metadata": {
        "id": "MK6gD4_ZfWAJ"
      },
      "source": [
        "img_1, boxes_1, labels_1 = create_img_with_rect()\n",
        "img_2, boxes_2, labels_2 = create_img_with_circle()"
      ],
      "execution_count": 4,
      "outputs": []
    },
    {
      "cell_type": "code",
      "metadata": {
        "id": "nD_Ldq3nfWDE",
        "outputId": "7589ed6c-fb8d-482f-eeec-e1c46bc944ad",
        "colab": {
          "base_uri": "https://localhost:8080/",
          "height": 254
        }
      },
      "source": [
        "img_1_marks = draw_boxes(img_1, boxes_1, labels_1)\n",
        "show_img(img_1_marks)"
      ],
      "execution_count": 5,
      "outputs": [
        {
          "output_type": "display_data",
          "data": {
            "image/png": "[encoded data removed]",
            "text/plain": [
              "<Figure size 288x432 with 1 Axes>"
            ]
          },
          "metadata": {
            "tags": [],
            "needs_background": "light"
          }
        }
      ]
    },
    {
      "cell_type": "code",
      "metadata": {
        "id": "Tb_8dDw3fWFc",
        "outputId": "1cda4fa3-a7e1-496f-c664-f90bb5a901de",
        "colab": {
          "base_uri": "https://localhost:8080/",
          "height": 254
        }
      },
      "source": [
        "img_2_marks = draw_boxes(img_2, boxes_2, labels_2)\n",
        "show_img(img_2_marks)"
      ],
      "execution_count": 6,
      "outputs": [
        {
          "output_type": "display_data",
          "data": {
            "image/png": "[encoded data removed]",
            "text/plain": [
              "<Figure size 288x432 with 1 Axes>"
            ]
          },
          "metadata": {
            "tags": [],
            "needs_background": "light"
          }
        }
      ]
    },
    {
      "cell_type": "markdown",
      "metadata": {
        "id": "XovspJJ0gTst"
      },
      "source": [
        "##Simple usage"
      ]
    },
    {
      "cell_type": "code",
      "metadata": {
        "id": "LlfZQraRffDn",
        "outputId": "55cc8942-c42d-4d40-d0db-0e461592881a",
        "colab": {
          "base_uri": "https://localhost:8080/",
          "height": 254
        }
      },
      "source": [
        "new_img, new_boxes, new_labels = cutmix(\n",
        "                            img_1, \n",
        "                            boxes_1,\n",
        "                            labels_1,\n",
        "                            \n",
        "                            img_2, \n",
        "                            boxes_2,\n",
        "                            labels_2,\n",
        "                           )\n",
        "\n",
        "img_with_rect = draw_boxes(new_img, new_boxes, new_labels)\n",
        "show_img(img_with_rect)"
      ],
      "execution_count": 7,
      "outputs": [
        {
          "output_type": "display_data",
          "data": {
            "image/png": "[encoded data removed]",
            "text/plain": [
              "<Figure size 288x432 with 1 Axes>"
            ]
          },
          "metadata": {
            "tags": [],
            "needs_background": "light"
          }
        }
      ]
    },
    {
      "cell_type": "markdown",
      "metadata": {
        "id": "Sg8UL3jCgXWM"
      },
      "source": [
        "##Advanced usage (with configs)"
      ]
    },
    {
      "cell_type": "code",
      "metadata": {
        "id": "e7TgBDt9fpBf"
      },
      "source": [
        "crop_x = 100\n",
        "crop_y = 100\n",
        "rect_h = 200\n",
        "rect_w = 200\n",
        "insert_x = 70\n",
        "insert_y = 70\n",
        "\n",
        "crop_rect_config = {\n",
        "    'crop_min_x' : crop_x,\n",
        "    'crop_max_x' : crop_x + 1,\n",
        "    \n",
        "    'crop_min_y' : crop_y,\n",
        "    'crop_max_y' : crop_y + 1,\n",
        "                 \n",
        "    'min_rect_h' : rect_h, \n",
        "    'max_rect_h' : rect_h + 1, \n",
        "    \n",
        "    'min_rect_w' : rect_w,      \n",
        "    'max_rect_w' : rect_w + 1,\n",
        "    \n",
        "    'insert_min_x' : insert_x,\n",
        "    'insert_max_x' : insert_x + 1,\n",
        "    \n",
        "    'insert_min_y' : insert_y,\n",
        "    'insert_max_y' : insert_y + 1,\n",
        "}\n",
        "\n",
        "process_box_config = {\n",
        "    'max_overlap_area_ratio': 0.75,\n",
        "\n",
        "    'min_height_result_ratio': 0.25,\n",
        "    'min_width_result_ratio': 0.25,\n",
        "\n",
        "    'max_height_intersection': 0.9,\n",
        "    'max_width_intersection': 0.9,\n",
        "}"
      ],
      "execution_count": 8,
      "outputs": []
    },
    {
      "cell_type": "code",
      "metadata": {
        "id": "ft79hl-gfpD9",
        "outputId": "87ecb5fa-8902-4e23-cedc-195ce511d727",
        "colab": {
          "base_uri": "https://localhost:8080/",
          "height": 254
        }
      },
      "source": [
        "new_img, new_boxes, new_labels = cutmix(\n",
        "                            img_1, \n",
        "                            boxes_1,\n",
        "                            labels_1,\n",
        "                            \n",
        "                            img_2, \n",
        "                            boxes_2,\n",
        "                            labels_2,\n",
        "                            \n",
        "                            crop_rect_config = crop_rect_config,\n",
        "                            process_boxes_config = process_box_config,\n",
        "                           )\n",
        "\n",
        "img_with_rect = draw_boxes(new_img, new_boxes, new_labels)\n",
        "show_img(img_with_rect)"
      ],
      "execution_count": 9,
      "outputs": [
        {
          "output_type": "display_data",
          "data": {
            "image/png": "[encoded data removed]",
            "text/plain": [
              "<Figure size 288x432 with 1 Axes>"
            ]
          },
          "metadata": {
            "tags": [],
            "needs_background": "light"
          }
        }
      ]
    },
    {
      "cell_type": "code",
      "metadata": {
        "id": "H7TRp_QUfpGk"
      },
      "source": [
        ""
      ],
      "execution_count": 9,
      "outputs": []
    }
  ]
}