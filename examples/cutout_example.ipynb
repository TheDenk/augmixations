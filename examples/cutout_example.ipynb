{
  "nbformat": 4,
  "nbformat_minor": 0,
  "metadata": {
    "colab": {
      "name": "cutout-example.ipynb",
      "provenance": [],
      "collapsed_sections": [],
      "authorship_tag": "ABX9TyN+imZ9FeooDQKb3kT25KuD",
      "include_colab_link": true
    },
    "kernelspec": {
      "name": "python3",
      "display_name": "Python 3"
    }
  },
  "cells": [
    {
      "cell_type": "markdown",
      "metadata": {
        "id": "view-in-github",
        "colab_type": "text"
      },
      "source": [
        "<a href=\"https://colab.research.google.com/github/TheDenk/augmixations/blob/feature%2Fno_blots/examples/cutout_example.ipynb\" target=\"_parent\"><img src=\"https://colab.research.google.com/assets/colab-badge.svg\" alt=\"Open In Colab\"/></a>"
      ]
    },
    {
      "cell_type": "code",
      "metadata": {
        "id": "CcdL4fUyfJJb",
        "colab": {
          "base_uri": "https://localhost:8080/"
        },
        "outputId": "8848b012-830c-4904-8f1b-e17efeb6ebb1"
      },
      "source": [
        "!pip install augmixations"
      ],
      "execution_count": 1,
      "outputs": [
        {
          "output_type": "stream",
          "name": "stdout",
          "text": [
            "Collecting augmixations\n",
            "  Downloading augmixations-0.2.0-py3-none-any.whl (16 kB)\n",
            "Requirement already satisfied: numpy>=1.11.1 in /usr/local/lib/python3.7/dist-packages (from augmixations) (1.19.5)\n",
            "Installing collected packages: augmixations\n",
            "Successfully installed augmixations-0.2.0\n"
          ]
        }
      ]
    },
    {
      "cell_type": "code",
      "metadata": {
        "id": "DhEY9Kr0fOp8"
      },
      "source": [
        "import cv2\n",
        "import numpy as np\n",
        "from matplotlib import pyplot as plt\n",
        "from augmixations import Cutout"
      ],
      "execution_count": 2,
      "outputs": []
    },
    {
      "cell_type": "markdown",
      "metadata": {
        "id": "BHGorvvGf_Pt"
      },
      "source": [
        "##Help functions"
      ]
    },
    {
      "cell_type": "code",
      "metadata": {
        "id": "ouQsobBIfV6L"
      },
      "source": [
        "def show_img(image, figsize=(4, 6), title=None):\n",
        "    img = image.copy()\n",
        "    img = cv2.cvtColor(img, cv2.COLOR_BGR2RGB)\n",
        "    plt.figure(figsize=figsize)\n",
        "    plt.title(title)\n",
        "    plt.imshow(img)\n",
        "    plt.axis(False)\n",
        "    plt.show()\n",
        "\n",
        "def create_img_with_circle(img_h=500, img_w=500, xc=250, yc=250,r=100, color=(150, 150, 150)):\n",
        "    label = 'circle'\n",
        "    img = np.ones((img_h, img_w, 3), dtype=np.uint8)*255\n",
        "    img = cv2.circle(img, (xc, yc), r, color, -1)\n",
        "    return img, np.array([np.array([xc -  r, xc - r, xc + r, xc + r])]), np.array([label])\n",
        "\n",
        "def draw_boxes(new_img, boxes, labels):\n",
        "    frame = new_img.copy()\n",
        "    \n",
        "    for (x1, y1, x2, y2), label in zip(boxes, labels): \n",
        "        thickness = 2\n",
        "        font_scale = 1\n",
        "    \n",
        "        frame = cv2.rectangle(frame, (x1, y1), (x2, y2), (255, 0, 0), 3)\n",
        "        frame = cv2.putText(frame, label, (int(x1), int(y1 - 15)), cv2.FONT_HERSHEY_SIMPLEX ,  \n",
        "                                   font_scale, (0, 0, 255), thickness, cv2.LINE_AA) \n",
        "        \n",
        "    return frame"
      ],
      "execution_count": 3,
      "outputs": []
    },
    {
      "cell_type": "markdown",
      "metadata": {
        "id": "WEkaoKvwgM7K"
      },
      "source": [
        "##Create images"
      ]
    },
    {
      "cell_type": "code",
      "metadata": {
        "id": "MK6gD4_ZfWAJ"
      },
      "source": [
        "img, boxes, labels = create_img_with_circle()"
      ],
      "execution_count": 4,
      "outputs": []
    },
    {
      "cell_type": "code",
      "metadata": {
        "id": "Tb_8dDw3fWFc",
        "colab": {
          "base_uri": "https://localhost:8080/",
          "height": 254
        },
        "outputId": "19fb4c7e-71e8-4d89-f2f5-c5507c5daf77"
      },
      "source": [
        "marked_img = draw_boxes(img, boxes, labels)\n",
        "show_img(marked_img)"
      ],
      "execution_count": 5,
      "outputs": [
        {
          "output_type": "display_data",
          "data": {
            "image/png": "[encoded data removed]",
            "text/plain": [
              "<Figure size 288x432 with 1 Axes>"
            ]
          },
          "metadata": {
            "needs_background": "light"
          }
        }
      ]
    },
    {
      "cell_type": "markdown",
      "metadata": {
        "id": "XovspJJ0gTst"
      },
      "source": [
        "##Simple usage"
      ]
    },
    {
      "cell_type": "code",
      "metadata": {
        "id": "LlfZQraRffDn",
        "colab": {
          "base_uri": "https://localhost:8080/",
          "height": 254
        },
        "outputId": "ba9d7634-3c0e-4e29-a3e2-7f9556db4c31"
      },
      "source": [
        "cutmix = Cutout()\n",
        "new_img, new_boxes, new_labels = cutmix(\n",
        "                            img, \n",
        "                            boxes,\n",
        "                            labels,\n",
        "                           )\n",
        "\n",
        "marked_img = draw_boxes(new_img, new_boxes, new_labels)\n",
        "show_img(marked_img)"
      ],
      "execution_count": 6,
      "outputs": [
        {
          "output_type": "display_data",
          "data": {
            "image/png": "[encoded data removed]",
            "text/plain": [
              "<Figure size 288x432 with 1 Axes>"
            ]
          },
          "metadata": {
            "needs_background": "light"
          }
        }
      ]
    },
    {
      "cell_type": "markdown",
      "metadata": {
        "id": "Sg8UL3jCgXWM"
      },
      "source": [
        "##Advanced usage (with configs)"
      ]
    },
    {
      "cell_type": "code",
      "metadata": {
        "id": "e7TgBDt9fpBf"
      },
      "source": [
        "cr_config = {\n",
        "    'crop_x': (None, None),\n",
        "    'crop_y': (None, None),\n",
        "    'rect_h': (50, 400),\n",
        "    'rect_w': (50, 400),\n",
        "    'transparency': (0.0, 0.5),\n",
        "    'hole_nums': (2, 5),\n",
        "}\n",
        "\n",
        "pb_config = {\n",
        "    'transp_box_visibility': 0.1,\n",
        "    'max_overlap_area_ratio': 0.75,\n",
        "    'min_height_result_ratio': 0.25,\n",
        "    'min_width_result_ratio': 0.25,\n",
        "    'max_height_intersection': 0.9,\n",
        "    'max_width_intersection': 0.9,\n",
        "}"
      ],
      "execution_count": 7,
      "outputs": []
    },
    {
      "cell_type": "code",
      "metadata": {
        "id": "ft79hl-gfpD9",
        "colab": {
          "base_uri": "https://localhost:8080/",
          "height": 254
        },
        "outputId": "e56299ca-e3d7-4e40-f9e6-ead9ea11be86"
      },
      "source": [
        "cutout = Cutout(cr_config, pb_config)\n",
        "new_img, new_boxes, new_labels = cutout(img, boxes, labels)\n",
        "\n",
        "marked_img = draw_boxes(new_img, new_boxes, new_labels)\n",
        "show_img(marked_img)"
      ],
      "execution_count": 8,
      "outputs": [
        {
          "output_type": "display_data",
          "data": {
            "image/png": "[encoded data removed]",
            "text/plain": [
              "<Figure size 288x432 with 1 Axes>"
            ]
          },
          "metadata": {
            "needs_background": "light"
          }
        }
      ]
    },
    {
      "cell_type": "code",
      "metadata": {
        "id": "dUsTAmI3Tnfa"
      },
      "source": [
        ""
      ],
      "execution_count": 8,
      "outputs": []
    }
  ]
}